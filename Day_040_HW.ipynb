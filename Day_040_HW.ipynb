{
 "cells": [
  {
   "cell_type": "markdown",
   "metadata": {},
   "source": [
    "## 練習時間\n",
    "試著使用 sklearn datasets 的其他資料集 (boston, ...)，來訓練自己的線性迴歸模型，並加上適當的正則話來觀察訓練情形。"
   ]
  },
  {
   "cell_type": "code",
   "execution_count": 1,
   "metadata": {},
   "outputs": [],
   "source": [
    "import numpy as np\n",
    "import matplotlib.pyplot as plt\n",
    "from sklearn import datasets, linear_model\n",
    "from sklearn.model_selection import train_test_split\n",
    "from sklearn.metrics import mean_squared_error, r2_score"
   ]
  },
  {
   "cell_type": "markdown",
   "metadata": {},
   "source": [
    "## Boston data"
   ]
  },
  {
   "cell_type": "code",
   "execution_count": 2,
   "metadata": {},
   "outputs": [],
   "source": [
    "boston = datasets.load_boston()"
   ]
  },
  {
   "cell_type": "code",
   "execution_count": 3,
   "metadata": {},
   "outputs": [
    {
     "name": "stdout",
     "output_type": "stream",
     "text": [
      "Mean squared error: 17.03\n"
     ]
    }
   ],
   "source": [
    "# 切分訓練集/測試集\n",
    "x_train, x_test, y_train, y_test = train_test_split(boston.data, boston.target, test_size=0.1, random_state=4)\n",
    "\n",
    "# 建立一個線性回歸模型\n",
    "regr = linear_model.LinearRegression()\n",
    "\n",
    "# 將訓練資料丟進去模型訓練\n",
    "regr.fit(x_train, y_train)\n",
    "\n",
    "# 將測試資料丟進模型得到預測結果\n",
    "y_pred = regr.predict(x_test)\n",
    "\n",
    "# 預測值與實際值的差距，使用 MSE\n",
    "print(\"Mean squared error: %.2f\"\n",
    "      % mean_squared_error(y_test, y_pred))"
   ]
  },
  {
   "cell_type": "markdown",
   "metadata": {},
   "source": [
    "## Boston data (Lasso)"
   ]
  },
  {
   "cell_type": "code",
   "execution_count": 4,
   "metadata": {},
   "outputs": [
    {
     "name": "stdout",
     "output_type": "stream",
     "text": [
      "alpha = 0.00\n",
      "Mean squared error: 17.03\n",
      "------------------------------\n",
      "alpha = 0.05\n",
      "Mean squared error: 18.15\n",
      "------------------------------\n",
      "alpha = 0.10\n",
      "Mean squared error: 18.18\n",
      "------------------------------\n",
      "alpha = 0.15\n",
      "Mean squared error: 18.26\n",
      "------------------------------\n",
      "alpha = 0.20\n",
      "Mean squared error: 18.42\n",
      "------------------------------\n",
      "alpha = 0.25\n",
      "Mean squared error: 18.58\n",
      "------------------------------\n",
      "alpha = 0.30\n",
      "Mean squared error: 18.77\n",
      "------------------------------\n",
      "alpha = 0.35\n",
      "Mean squared error: 18.95\n",
      "------------------------------\n",
      "alpha = 0.40\n",
      "Mean squared error: 19.17\n",
      "------------------------------\n",
      "alpha = 0.45\n",
      "Mean squared error: 19.41\n",
      "------------------------------\n",
      "alpha = 0.50\n",
      "Mean squared error: 19.66\n",
      "------------------------------\n",
      "alpha = 0.55\n",
      "Mean squared error: 19.93\n",
      "------------------------------\n",
      "alpha = 0.60\n",
      "Mean squared error: 20.22\n",
      "------------------------------\n",
      "alpha = 0.65\n",
      "Mean squared error: 20.53\n",
      "------------------------------\n",
      "alpha = 0.70\n",
      "Mean squared error: 20.86\n",
      "------------------------------\n",
      "alpha = 0.75\n",
      "Mean squared error: 21.21\n",
      "------------------------------\n",
      "alpha = 0.80\n",
      "Mean squared error: 21.58\n",
      "------------------------------\n",
      "alpha = 0.85\n",
      "Mean squared error: 21.97\n",
      "------------------------------\n",
      "alpha = 0.90\n",
      "Mean squared error: 22.37\n",
      "------------------------------\n",
      "alpha = 0.95\n",
      "Mean squared error: 22.80\n",
      "------------------------------\n"
     ]
    },
    {
     "name": "stderr",
     "output_type": "stream",
     "text": [
      "C:\\Users\\user\\Anaconda3\\lib\\site-packages\\ipykernel_launcher.py:6: UserWarning: With alpha=0, this algorithm does not converge well. You are advised to use the LinearRegression estimator\n",
      "  \n",
      "C:\\Users\\user\\Anaconda3\\lib\\site-packages\\sklearn\\linear_model\\coordinate_descent.py:477: UserWarning: Coordinate descent with no regularization may lead to unexpected results and is discouraged.\n",
      "  positive)\n",
      "C:\\Users\\user\\Anaconda3\\lib\\site-packages\\sklearn\\linear_model\\coordinate_descent.py:491: ConvergenceWarning: Objective did not converge. You might want to increase the number of iterations. Fitting data with very small alpha may cause precision problems.\n",
      "  ConvergenceWarning)\n"
     ]
    }
   ],
   "source": [
    "for x in range(0, 100, 5):\n",
    "    # 建立一個線性回歸模型\n",
    "    lasso = linear_model.Lasso(alpha=(x/100))\n",
    "\n",
    "    # 將訓練資料丟進去模型訓練\n",
    "    lasso.fit(x_train, y_train)\n",
    "\n",
    "    # 將測試資料丟進模型得到預測結果\n",
    "    y_pred = lasso.predict(x_test)\n",
    "    \n",
    "    # 預測值與實際值的差距，使用 MSE\n",
    "    print('alpha = %.2f' % (x/100))\n",
    "    print(\"Mean squared error: %.2f\" % mean_squared_error(y_test, y_pred))\n",
    "    print('-'*30)"
   ]
  },
  {
   "cell_type": "code",
   "execution_count": null,
   "metadata": {},
   "outputs": [],
   "source": []
  }
 ],
 "metadata": {
  "kernelspec": {
   "display_name": "Python 3",
   "language": "python",
   "name": "python3"
  },
  "language_info": {
   "codemirror_mode": {
    "name": "ipython",
    "version": 3
   },
   "file_extension": ".py",
   "mimetype": "text/x-python",
   "name": "python",
   "nbconvert_exporter": "python",
   "pygments_lexer": "ipython3",
   "version": "3.6.4"
  }
 },
 "nbformat": 4,
 "nbformat_minor": 2
}
