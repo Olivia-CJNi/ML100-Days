{
 "cells": [
  {
   "cell_type": "markdown",
   "metadata": {},
   "source": [
    "## 作業\n",
    "\n",
    "Q1. 試著調整 RandomForestClassifier(...) 中的參數，並觀察是否會改變結果？"
   ]
  },
  {
   "cell_type": "code",
   "execution_count": 1,
   "metadata": {},
   "outputs": [],
   "source": [
    "from sklearn import datasets, metrics\n",
    "from sklearn.ensemble import RandomForestClassifier, RandomForestRegressor\n",
    "from sklearn.model_selection import train_test_split\n",
    "from sklearn.metrics import mean_squared_error"
   ]
  },
  {
   "cell_type": "code",
   "execution_count": 2,
   "metadata": {},
   "outputs": [
    {
     "name": "stdout",
     "output_type": "stream",
     "text": [
      "n_estimator = 1\n",
      "Acuuracy:  0.9736842105263158\n",
      "------------------------------\n",
      "n_estimator = 11\n",
      "Acuuracy:  0.9473684210526315\n",
      "------------------------------\n",
      "n_estimator = 21\n",
      "Acuuracy:  0.9736842105263158\n",
      "------------------------------\n",
      "n_estimator = 31\n",
      "Acuuracy:  0.9736842105263158\n",
      "------------------------------\n",
      "n_estimator = 41\n",
      "Acuuracy:  0.9473684210526315\n",
      "------------------------------\n",
      "n_estimator = 51\n",
      "Acuuracy:  0.9473684210526315\n",
      "------------------------------\n",
      "n_estimator = 61\n",
      "Acuuracy:  0.9736842105263158\n",
      "------------------------------\n",
      "n_estimator = 71\n",
      "Acuuracy:  0.9736842105263158\n",
      "------------------------------\n",
      "n_estimator = 81\n",
      "Acuuracy:  0.9736842105263158\n",
      "------------------------------\n",
      "n_estimator = 91\n",
      "Acuuracy:  0.9736842105263158\n",
      "------------------------------\n"
     ]
    }
   ],
   "source": [
    "# 讀取鳶尾花資料集\n",
    "iris = datasets.load_iris()\n",
    "\n",
    "# 切分訓練集/測試集\n",
    "x_train, x_test, y_train, y_test = train_test_split(iris.data, iris.target, test_size=0.25, random_state=4)\n",
    "\n",
    "# 建立模型\n",
    "for x in range(1,100,10):\n",
    "    clf = RandomForestClassifier(n_estimators=x)\n",
    "    clf.fit(x_train, y_train)\n",
    "    y_pred = clf.predict(x_test)\n",
    "    acc = metrics.accuracy_score(y_test, y_pred)\n",
    "    print('n_estimator = %d' % x)\n",
    "    print(\"Acuuracy: \", acc)\n",
    "    print('-'*30)"
   ]
  },
  {
   "cell_type": "code",
   "execution_count": null,
   "metadata": {},
   "outputs": [],
   "source": []
  },
  {
   "cell_type": "markdown",
   "metadata": {},
   "source": [
    "Q2. 改用其他資料集 (boston, wine)，並與回歸模型與決策樹的結果進行比較"
   ]
  },
  {
   "cell_type": "code",
   "execution_count": 3,
   "metadata": {},
   "outputs": [
    {
     "name": "stdout",
     "output_type": "stream",
     "text": [
      "n_estimator = 1\n",
      "Mean squared error: 28.68\n",
      "------------------------------\n",
      "n_estimator = 11\n",
      "Mean squared error: 11.48\n",
      "------------------------------\n",
      "n_estimator = 21\n",
      "Mean squared error: 10.40\n",
      "------------------------------\n",
      "n_estimator = 31\n",
      "Mean squared error: 9.74\n",
      "------------------------------\n",
      "n_estimator = 41\n",
      "Mean squared error: 9.58\n",
      "------------------------------\n",
      "n_estimator = 51\n",
      "Mean squared error: 11.15\n",
      "------------------------------\n",
      "n_estimator = 61\n",
      "Mean squared error: 10.07\n",
      "------------------------------\n",
      "n_estimator = 71\n",
      "Mean squared error: 9.65\n",
      "------------------------------\n",
      "n_estimator = 81\n",
      "Mean squared error: 10.06\n",
      "------------------------------\n",
      "n_estimator = 91\n",
      "Mean squared error: 10.20\n",
      "------------------------------\n"
     ]
    }
   ],
   "source": [
    "# 讀取波士頓資料集\n",
    "boston = datasets.load_boston()\n",
    "\n",
    "# 切分訓練集/測試集\n",
    "x_train, x_test, y_train, y_test = train_test_split(boston.data, boston.target, test_size=0.1, random_state=4)\n",
    "\n",
    "# 建立模型\n",
    "for x in range(1,100,10):\n",
    "    clf = RandomForestRegressor(n_estimators=x)\n",
    "    clf.fit(x_train, y_train)\n",
    "    y_pred = clf.predict(x_test)\n",
    "    print('n_estimator = %d' % x)\n",
    "    print(\"Mean squared error: %.2f\" % mean_squared_error(y_test, y_pred))\n",
    "    print('-'*30)"
   ]
  },
  {
   "cell_type": "code",
   "execution_count": null,
   "metadata": {},
   "outputs": [],
   "source": []
  },
  {
   "cell_type": "code",
   "execution_count": null,
   "metadata": {},
   "outputs": [],
   "source": []
  }
 ],
 "metadata": {
  "kernelspec": {
   "display_name": "Python 3",
   "language": "python",
   "name": "python3"
  },
  "language_info": {
   "codemirror_mode": {
    "name": "ipython",
    "version": 3
   },
   "file_extension": ".py",
   "mimetype": "text/x-python",
   "name": "python",
   "nbconvert_exporter": "python",
   "pygments_lexer": "ipython3",
   "version": "3.6.4"
  }
 },
 "nbformat": 4,
 "nbformat_minor": 2
}
