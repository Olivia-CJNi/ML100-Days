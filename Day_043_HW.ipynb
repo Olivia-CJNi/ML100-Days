{
 "cells": [
  {
   "cell_type": "markdown",
   "metadata": {},
   "source": [
    "## 作業\n",
    "\n",
    "閱讀以下兩篇文獻，了解隨機森林原理，並試著回答後續的思考問題\n",
    "- [隨機森林 (random forest) - 中文](http://hhtucode.blogspot.tw/2013/06/ml-random-forest.html)\n",
    "- [how random forest works - 英文](https://medium.com/@Synced/how-random-forest-algorithm-works-in-machine-learning-3c0fe15b6674)"
   ]
  },
  {
   "cell_type": "markdown",
   "metadata": {},
   "source": [
    "\n",
    "1. 隨機森林中的每一棵樹，是希望能夠\n",
    "\n",
    "    - 沒有任何限制，讓樹可以持續生長 (讓樹生成很深，讓模型變得複雜) (V)\n",
    "    \n",
    "    - 不要過度生長，避免 Overfitting                            (X)\n",
    "    \n",
    "    \n",
    "2. 假設總共有 N 筆資料，每棵樹用取後放回的方式抽了總共 N 筆資料生成，請問這棵樹大約使用了多少 % 不重複的原資料生成?\n",
    "hint: 0.632 bootstrap\n",
    "https://www.bing.com/images/search?view=detailV2&ccid=mcFxnWJW&id=2304838A8C2CF040FD95BA7538BE43AA42AC6D84&thid=OIP.mcFxnWJWnQboWAwBBSOFTgHaFj&mediaurl=http%3a%2f%2fslideplayer.com%2f12256873%2f72%2fimages%2f7%2fThe%2b0.632%2bbootstrap%2bThis%2bmethod%2bis%2balso%2bcalled%2bthe%2b0.632%2bbootstrap.jpg&exph=768&expw=1024&q=0.632+bootstrap&simid=607989517414041316&selectedIndex=2&ajaxhist=0\n"
   ]
  },
  {
   "cell_type": "code",
   "execution_count": null,
   "metadata": {},
   "outputs": [],
   "source": []
  }
 ],
 "metadata": {
  "kernelspec": {
   "display_name": "Python 3",
   "language": "python",
   "name": "python3"
  },
  "language_info": {
   "codemirror_mode": {
    "name": "ipython",
    "version": 3
   },
   "file_extension": ".py",
   "mimetype": "text/x-python",
   "name": "python",
   "nbconvert_exporter": "python",
   "pygments_lexer": "ipython3",
   "version": "3.6.4"
  }
 },
 "nbformat": 4,
 "nbformat_minor": 2
}
